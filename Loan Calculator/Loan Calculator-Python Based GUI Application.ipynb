{
 "cells": [
  {
   "cell_type": "code",
   "execution_count": 1,
   "id": "ec8107fe",
   "metadata": {},
   "outputs": [],
   "source": [
    "from tkinter import *\n",
    "fields=(\"Loan Amount\",\"Number of Installments\",\"Rate of Interest\",\"Installments\")\n",
    "\n",
    "def calculate_installment(entries):\n",
    "    r=(float(entries[fields[2]].get())/100)/12\n",
    "    p=float(entries[fields[0]].get())\n",
    "    n=float(entries[fields[1]].get())\n",
    "    i=p*r*(1+r)**n/((1+r)**n-1)\n",
    "    i=(\"%8.2f\"%i).strip()\n",
    "    entries[fields[3]].delete(0,END)\n",
    "    entries[fields[3]].config(state=NORMAL)  \n",
    "    entries[fields[3]].insert(0,i)\n",
    "    entries[fields[3]].config(state=DISABLED)  \n",
    "    \n",
    "def makeform(root,fields):\n",
    "    entries={}\n",
    "    for field in fields:\n",
    "        row=Frame(root)\n",
    "        lab=Label(row,width=22,text=field+\": \",anchor=\"w\")\n",
    "        ent=Entry(row)\n",
    "        ent.insert(0,\"0\")\n",
    "        row.pack(side=TOP,fill=X,padx=5,pady=5)\n",
    "        lab.pack(side=LEFT)\n",
    "        ent.pack(side=RIGHT)\n",
    "        entries[field]=ent\n",
    "    entries[field].config(state=DISABLED)\n",
    "    return entries\n",
    "    \n",
    "\n",
    "\n",
    "if __name__=='__main__':\n",
    "    root=Tk()\n",
    "    ents=makeform(root,fields)\n",
    "    b1=Button(root,text=\"Calculate Installment\",command=(lambda e=ents:calculate_installment(e)))\n",
    "    b1.pack(side=LEFT,padx=5,pady=5)\n",
    "    b2=Button(root,text=\"Exit\",command=root.quit)\n",
    "    b2.pack(side=LEFT,padx=5,pady=5)\n",
    "    root.mainloop()"
   ]
  }
 ],
 "metadata": {
  "kernelspec": {
   "display_name": "Python 3 (ipykernel)",
   "language": "python",
   "name": "python3"
  },
  "language_info": {
   "codemirror_mode": {
    "name": "ipython",
    "version": 3
   },
   "file_extension": ".py",
   "mimetype": "text/x-python",
   "name": "python",
   "nbconvert_exporter": "python",
   "pygments_lexer": "ipython3",
   "version": "3.9.12"
  }
 },
 "nbformat": 4,
 "nbformat_minor": 5
}
